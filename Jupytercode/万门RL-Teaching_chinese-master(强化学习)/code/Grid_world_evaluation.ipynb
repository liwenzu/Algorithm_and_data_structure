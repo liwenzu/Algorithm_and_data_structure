{
 "cells": [
  {
   "cell_type": "code",
   "execution_count": 1,
   "metadata": {
    "collapsed": true
   },
   "outputs": [],
   "source": [
    "# environment: grids with size m*n; goal / orginary grid / windy grid / cliff grid / blocking grid / start point (Can be random).\n",
    "# other variation: \n",
    "# task: can be temporal discounting (R(goal)=0, R(orginary) =-1), or not (R(goal)=1, others =0).\n",
    "# learning: TD evaluation; dynamic programming could be added\n",
    "# GUI to be added"
   ]
  },
  {
   "cell_type": "code",
   "execution_count": 2,
   "metadata": {
    "collapsed": false
   },
   "outputs": [],
   "source": [
    "import numpy as np\n",
    "import matplotlib.pyplot as plt\n",
    "from IPython.core.debugger import set_trace\n",
    "\n"
   ]
  },
  {
   "cell_type": "code",
   "execution_count": 3,
   "metadata": {
    "collapsed": false
   },
   "outputs": [],
   "source": [
    "# Environment setup: Sutton book example 4.1\n",
    "# grid configuration\n",
    "gsize = [4,4]\n",
    "gw = np.zeros([gsize[0],gsize[1]]) # 0 is orginary block\n",
    "gw[0,0]= 1 # set goals\n",
    "gw[3,3] = 1 \n",
    "\n",
    "# action and transition matrix\n",
    "def state_act(state,action,gsize):\n",
    "    # action is a character of either u,d,l,r (up,down,left,right)\n",
    "    # state is a 1*2 tuple, marking the current position\n",
    "    newstate = state[:]\n",
    "    if action == 'u':\n",
    "        newstate[1]=max(0,state[1]-1)\n",
    "    elif action == 'd':\n",
    "        newstate[1]=min(gsize[1]-1,state[1]+1)\n",
    "    elif action == 'l':\n",
    "        newstate[0]=max(0,state[0]-1)\n",
    "    elif action == 'r':\n",
    "        newstate[0]=min(gsize[0]-1,state[0]+1)\n",
    "    else:\n",
    "        raise ValueError('action not valid')\n",
    "    \n",
    "    if gw[newstate[0],newstate[1]] == -1: # means it's blocked, so remain unmoved\n",
    "        newestate = state[:]\n",
    "        \n",
    "    return newstate    \n",
    "   \n",
    "# reward setup\n",
    "def reward(state, gw):\n",
    "    # state represents the current position; gw is the setting of grid world\n",
    "    if gw[state[0],state[1]] == 1:\n",
    "        R = 1\n",
    "    else:\n",
    "        #R = 0 # no temporal discount\n",
    "        R = -1 # with temporal discount\n",
    "    return R"
   ]
  },
  {
   "cell_type": "code",
   "execution_count": 4,
   "metadata": {
    "collapsed": true
   },
   "outputs": [],
   "source": [
    "# Learner setup\n",
    "A = .1 # learning rate\n",
    "gamma = 1 # no temporal discount for future state\n",
    "def policy(state): # equalprob policy\n",
    "    acts = ['u','d','l','r']\n",
    "    return acts[np.random.randint(len(acts))]"
   ]
  },
  {
   "cell_type": "code",
   "execution_count": 5,
   "metadata": {
    "collapsed": false
   },
   "outputs": [
    {
     "name": "stdout",
     "output_type": "stream",
     "text": [
      "0\n",
      "[2, 2] [3, 2] r\n",
      "[3, 2] [3, 3] d\n",
      "[[ 1.   0.   0.   0. ]\n",
      " [ 0.   0.   0.   0. ]\n",
      " [ 0.   0.  -0.1  0. ]\n",
      " [ 0.   0.   0.   1. ]]\n",
      "1\n",
      "[2, 2] [3, 2] r\n",
      "[3, 2] [3, 1] u\n",
      "[3, 1] [3, 1] r\n",
      "[3, 1] [3, 0] u\n",
      "[3, 0] [3, 0] r\n",
      "[3, 0] [3, 0] r\n",
      "[3, 0] [2, 0] l\n",
      "[2, 0] [2, 0] u\n",
      "[2, 0] [1, 0] l\n",
      "[1, 0] [0, 0] l\n",
      "[[ 1.    0.    0.    0.  ]\n",
      " [ 0.    0.    0.    0.  ]\n",
      " [-0.19  0.   -0.19  0.  ]\n",
      " [-0.28 -0.19 -0.1   1.  ]]\n",
      "2\n",
      "[2, 2] [2, 1] u\n",
      "[2, 1] [2, 0] u\n",
      "[2, 0] [3, 0] r\n",
      "[3, 0] [2, 0] l\n",
      "[2, 0] [2, 0] u\n",
      "[2, 0] [2, 0] u\n",
      "[2, 0] [2, 1] d\n",
      "[2, 1] [3, 1] r\n",
      "[3, 1] [2, 1] l\n",
      "[2, 1] [3, 1] r\n",
      "[3, 1] [3, 0] u\n",
      "[3, 0] [3, 1] d\n",
      "[3, 1] [3, 2] d\n",
      "[3, 2] [3, 2] r\n",
      "[3, 2] [3, 1] u\n",
      "[3, 1] [3, 0] u\n",
      "[3, 0] [3, 0] u\n",
      "[3, 0] [3, 0] u\n",
      "[3, 0] [2, 0] l\n",
      "[2, 0] [2, 0] u\n",
      "[2, 0] [3, 0] r\n",
      "[3, 0] [2, 0] l\n",
      "[2, 0] [1, 0] l\n",
      "[1, 0] [0, 0] l\n",
      "[[ 1.          0.          0.          0.        ]\n",
      " [ 0.          0.          0.          0.        ]\n",
      " [-0.79485927 -0.332851   -0.271       0.        ]\n",
      " [-0.87169924 -0.57337098 -0.32721951  1.        ]]\n",
      "3\n",
      "[2, 2] [1, 2] l\n",
      "[1, 2] [0, 2] l\n",
      "[0, 2] [0, 2] l\n",
      "[0, 2] [1, 2] r\n",
      "[1, 2] [2, 2] r\n",
      "[2, 2] [2, 1] u\n",
      "[2, 1] [1, 1] l\n",
      "[1, 1] [2, 1] r\n",
      "[2, 1] [2, 0] u\n",
      "[2, 0] [3, 0] r\n",
      "[3, 0] [2, 0] l\n",
      "[2, 0] [3, 0] r\n",
      "[3, 0] [3, 0] r\n",
      "[3, 0] [3, 0] r\n",
      "[3, 0] [3, 0] u\n",
      "[3, 0] [3, 0] u\n",
      "[3, 0] [3, 0] u\n",
      "[3, 0] [3, 1] d\n",
      "[3, 1] [3, 2] d\n",
      "[3, 2] [3, 3] d\n",
      "[[ 1.          0.         -0.2         0.        ]\n",
      " [ 0.         -0.13995659 -0.22439     0.        ]\n",
      " [-1.0097673  -0.53909524 -0.4427951   0.        ]\n",
      " [-1.48464238 -0.64875583 -0.29449756  1.        ]]\n",
      "4\n",
      "[2, 2] [1, 2] l\n",
      "[1, 2] [1, 1] u\n",
      "[1, 1] [1, 2] d\n",
      "[1, 2] [0, 2] l\n",
      "[0, 2] [0, 2] l\n",
      "[0, 2] [1, 2] r\n",
      "[1, 2] [1, 3] d\n",
      "[1, 3] [2, 3] r\n",
      "[2, 3] [3, 3] r\n",
      "[[ 1.          0.         -0.4104352   0.        ]\n",
      " [ 0.         -0.2575556  -0.46391679 -0.1       ]\n",
      " [-1.0097673  -0.53909524 -0.52095459  0.        ]\n",
      " [-1.48464238 -0.64875583 -0.29449756  1.        ]]\n",
      "5\n",
      "[2, 2] [3, 2] r\n",
      "[3, 2] [3, 3] d\n",
      "[[ 1.          0.         -0.4104352   0.        ]\n",
      " [ 0.         -0.2575556  -0.46391679 -0.1       ]\n",
      " [-1.0097673  -0.53909524 -0.59830889  0.        ]\n",
      " [-1.48464238 -0.64875583 -0.2650478   1.        ]]\n",
      "6\n",
      "[2, 2] [3, 2] r\n",
      "[3, 2] [3, 3] d\n",
      "[[ 1.          0.         -0.4104352   0.        ]\n",
      " [ 0.         -0.2575556  -0.46391679 -0.1       ]\n",
      " [-1.0097673  -0.53909524 -0.66498278  0.        ]\n",
      " [-1.48464238 -0.64875583 -0.23854302  1.        ]]\n",
      "7\n",
      "[2, 2] [3, 2] r\n",
      "[3, 2] [3, 1] u\n",
      "[3, 1] [3, 2] d\n",
      "[3, 2] [3, 2] r\n",
      "[3, 2] [2, 2] l\n",
      "[2, 2] [3, 2] r\n",
      "[3, 2] [3, 1] u\n",
      "[3, 1] [2, 1] l\n",
      "[2, 1] [2, 2] d\n",
      "[2, 2] [2, 1] u\n",
      "[2, 1] [1, 1] l\n",
      "[1, 1] [2, 1] r\n",
      "[2, 1] [2, 2] d\n",
      "[2, 2] [3, 2] r\n",
      "[3, 2] [2, 2] l\n",
      "[2, 2] [2, 1] u\n",
      "[2, 1] [2, 0] u\n",
      "[2, 0] [1, 0] l\n",
      "[1, 0] [1, 0] u\n",
      "[1, 0] [0, 0] l\n",
      "[[ 1.          0.         -0.4104352   0.        ]\n",
      " [-0.09       -0.40433671 -0.46391679 -0.1       ]\n",
      " [-1.00879057 -0.9591695  -1.06446291  0.        ]\n",
      " [-1.48464238 -0.80356254 -0.84187926  1.        ]]\n",
      "8\n",
      "[2, 2] [2, 1] u\n",
      "[2, 1] [2, 0] u\n",
      "[2, 0] [2, 1] d\n",
      "[2, 1] [2, 0] u\n",
      "[2, 0] [2, 1] d\n",
      "[2, 1] [3, 1] r\n",
      "[3, 1] [2, 1] l\n",
      "[2, 1] [3, 1] r\n",
      "[3, 1] [3, 2] d\n",
      "[3, 2] [3, 3] d\n",
      "[[ 1.          0.         -0.4104352   0.        ]\n",
      " [-0.09       -0.40433671 -0.46391679 -0.1       ]\n",
      " [-1.2198073  -1.30397942 -1.15393357  0.        ]\n",
      " [-1.48464238 -1.03600687 -0.75769134  1.        ]]\n",
      "9\n",
      "[2, 2] [3, 2] r\n",
      "[3, 2] [3, 1] u\n",
      "[3, 1] [3, 1] r\n",
      "[3, 1] [3, 0] u\n",
      "[3, 0] [3, 0] r\n",
      "[3, 0] [3, 0] r\n",
      "[3, 0] [3, 1] d\n",
      "[3, 1] [2, 1] l\n",
      "[2, 1] [2, 0] u\n",
      "[2, 0] [1, 0] l\n",
      "[1, 0] [2, 0] r\n",
      "[2, 0] [2, 1] d\n",
      "[2, 1] [2, 0] u\n",
      "[2, 0] [1, 0] l\n",
      "[1, 0] [1, 0] u\n",
      "[1, 0] [1, 0] u\n",
      "[1, 0] [0, 0] l\n",
      "[[ 1.          0.         -0.4104352   0.        ]\n",
      " [-0.45151439 -0.40433671 -0.46391679 -0.1       ]\n",
      " [-1.32329839 -1.488576   -1.21430935  0.        ]\n",
      " [-1.74326518 -1.37418132 -0.88552289  1.        ]]\n"
     ]
    }
   ],
   "source": [
    "# start learning\n",
    "Nepis = 10 # total episode num\n",
    "V = np.zeros_like(gw)\n",
    "V[0,0] = 1\n",
    "V[3,3] = 1\n",
    "\n",
    "for k in range(Nepis):\n",
    "    s = [2,2]\n",
    "    goal = 0\n",
    "    print(k)\n",
    "    while gw[s[0],s[1]] != 1:\n",
    "        a=policy(s)\n",
    "        s_new = state_act(s,a,gsize)\n",
    "        print(s,s_new,a)            \n",
    "        pred_err = reward(s,gw) + gamma*V[s_new[0],s_new[1]] - V[s[0],s[1]]\n",
    "        V[s[0],s[1]] = V[s[0],s[1]] + A * pred_err\n",
    "        s = s_new\n",
    "\n",
    "    print(V) "
   ]
  },
  {
   "cell_type": "code",
   "execution_count": 6,
   "metadata": {
    "collapsed": false
   },
   "outputs": [
    {
     "name": "stdout",
     "output_type": "stream",
     "text": [
      "-0.796970600581\n"
     ]
    }
   ],
   "source": [
    "s=[3,2]\n",
    "s_new = [3,3]\n",
    "pred_err = reward(s,gw) + gamma*V[s_new[0],s_new[1]] - V[s[0],s[1]]\n",
    "V[s[0],s[1]] = V[s[0],s[1]] + A * pred_err\n",
    "print(V[s[0],s[1]])"
   ]
  },
  {
   "cell_type": "code",
   "execution_count": 7,
   "metadata": {
    "collapsed": false
   },
   "outputs": [
    {
     "name": "stdout",
     "output_type": "stream",
     "text": [
      "[1, 2] [1, 3]\n"
     ]
    }
   ],
   "source": [
    "s=[1,2]\n",
    "s_new = state_act(s,'d',gsize)\n",
    "print(s,s_new)"
   ]
  }
 ],
 "metadata": {
  "anaconda-cloud": {},
  "kernelspec": {
   "display_name": "Python [Root]",
   "language": "python",
   "name": "Python [Root]"
  },
  "language_info": {
   "codemirror_mode": {
    "name": "ipython",
    "version": 3
   },
   "file_extension": ".py",
   "mimetype": "text/x-python",
   "name": "python",
   "nbconvert_exporter": "python",
   "pygments_lexer": "ipython3",
   "version": "3.5.2"
  }
 },
 "nbformat": 4,
 "nbformat_minor": 0
}
