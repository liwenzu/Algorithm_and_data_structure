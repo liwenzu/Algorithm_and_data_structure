{
 "cells": [
  {
   "cell_type": "code",
   "execution_count": 9,
   "metadata": {
    "collapsed": false
   },
   "outputs": [
    {
     "data": {
      "image/png": "[encoded data removed]",
      "text/plain": [
       "<matplotlib.figure.Figure at 0x10ec16400>"
      ]
     },
     "metadata": {},
     "output_type": "display_data"
    }
   ],
   "source": [
    "import math\n",
    "import numpy as np\n",
    "import matplotlib.pyplot as plt\n",
    "\n",
    "tau = 0.1 # temporature term. steeper when tau decreases\n",
    "\n",
    "v = np.arange(1,10) #value array, each element is the value of a state\n",
    "z = v/tau\n",
    "z_exp = [math.exp(i) for i in z]\n",
    "\n",
    "sum_z_exp = sum(z_exp)\n",
    "\n",
    "softmax = [round(i / sum_z_exp, 3) for i in z_exp]\n",
    "plt.plot(softmax)\n",
    "plt.show()"
   ]
  }
 ],
 "metadata": {
  "anaconda-cloud": {},
  "kernelspec": {
   "display_name": "Python [Root]",
   "language": "python",
   "name": "Python [Root]"
  },
  "language_info": {
   "codemirror_mode": {
    "name": "ipython",
    "version": 3
   },
   "file_extension": ".py",
   "mimetype": "text/x-python",
   "name": "python",
   "nbconvert_exporter": "python",
   "pygments_lexer": "ipython3",
   "version": "3.5.2"
  }
 },
 "nbformat": 4,
 "nbformat_minor": 0
}
