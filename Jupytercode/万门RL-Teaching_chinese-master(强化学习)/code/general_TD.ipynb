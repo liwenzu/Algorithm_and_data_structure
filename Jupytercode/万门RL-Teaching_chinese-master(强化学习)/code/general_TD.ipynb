{
 "cells": [
  {
   "cell_type": "code",
   "execution_count": 5,
   "metadata": {},
   "outputs": [],
   "source": [
    "import numpy as np\n",
    "import matplotlib.pyplot as plt\n",
    "from IPython.core.debugger import set_trace"
   ]
  },
  {
   "cell_type": "code",
   "execution_count": 6,
   "metadata": {},
   "outputs": [],
   "source": [
    "# problem set-up\n",
    "def next_s(s):\n",
    "    if s == 0:\n",
    "        return 1\n",
    "    else:\n",
    "        return -1 #terminal\n",
    "def reward(s):\n",
    "    if s == 0:\n",
    "        return np.random.normal(-2,1)\n",
    "    elif s == 1:\n",
    "        return np.random.normal(5,1)"
   ]
  },
  {
   "cell_type": "code",
   "execution_count": 7,
   "metadata": {},
   "outputs": [],
   "source": [
    "# learner set-up\n",
    "A = .5 # learning rate\n",
    "gamma = 1 # no temporal discount"
   ]
  },
  {
   "cell_type": "code",
   "execution_count": 24,
   "metadata": {},
   "outputs": [
    {
     "name": "stdout",
     "output_type": "stream",
     "text": [
      "[-1.13979267  2.21204999]\n",
      "[-1.01068458  4.63841518]\n",
      "[-0.0848772   6.53618399]\n",
      "[2.11388233 8.63985324]\n",
      "[ 4.85530939 11.2780928 ]\n",
      "[ 7.63583192 13.64833518]\n",
      "[10.18400612 17.03789371]\n",
      "[13.15061063 19.72933782]\n",
      "[14.45135926 22.21492532]\n",
      "[17.77663388 23.88645206]\n"
     ]
    }
   ],
   "source": [
    "V = np.zeros(2) #initialize to 0\n",
    "\n",
    "Nepis = 10\n",
    "for k in range(Nepis):\n",
    "    s = 0\n",
    "    while s != -1:\n",
    "        s_new = next_s(s)\n",
    "        pred_err = reward(s) + gamma*V[s_new] - V[s]\n",
    "        V[s] = V[s] + A * pred_err\n",
    "        s = s_new\n",
    "\n",
    "    print(V) "
   ]
  },
  {
   "cell_type": "code",
   "execution_count": null,
   "metadata": {},
   "outputs": [],
   "source": []
  },
  {
   "cell_type": "code",
   "execution_count": null,
   "metadata": {},
   "outputs": [],
   "source": []
  },
  {
   "cell_type": "code",
   "execution_count": null,
   "metadata": {},
   "outputs": [],
   "source": []
  }
 ],
 "metadata": {
  "kernelspec": {
   "display_name": "Python 3",
   "language": "python",
   "name": "python3"
  },
  "language_info": {
   "codemirror_mode": {
    "name": "ipython",
    "version": 3
   },
   "file_extension": ".py",
   "mimetype": "text/x-python",
   "name": "python",
   "nbconvert_exporter": "python",
   "pygments_lexer": "ipython3",
   "version": "3.7.0"
  }
 },
 "nbformat": 4,
 "nbformat_minor": 1
}
