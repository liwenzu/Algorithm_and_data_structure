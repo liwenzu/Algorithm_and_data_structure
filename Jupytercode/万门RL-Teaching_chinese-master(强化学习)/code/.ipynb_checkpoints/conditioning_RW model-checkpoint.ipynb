{
 "cells": [
  {
   "cell_type": "code",
   "execution_count": 119,
   "metadata": {},
   "outputs": [],
   "source": [
    "# conditioning: CS, US, P(US|CS), R(US) => each trial, (CS,US=0 or 1,R = 0 or 1)\n",
    "# learning: Rescorla-Wagner model, trial-by-trial learning; learning parameter: A as learning rate\n",
    "# variation to be tested: several compounded CS"
   ]
  },
  {
   "cell_type": "code",
   "execution_count": 120,
   "metadata": {},
   "outputs": [],
   "source": [
    "import numpy as np\n",
    "import matplotlib.pyplot as plt"
   ]
  },
  {
   "cell_type": "code",
   "execution_count": 121,
   "metadata": {},
   "outputs": [],
   "source": [
    "# environment creator\n",
    "def gen_trial():\n",
    "    # N is the number of trials\n",
    "    cs = True # single conditional stimuli\n",
    "    us = np.random.rand(1)>.2 # in 80% of the cases CS will be followed by a US\n",
    "    trial = [cs,us]\n",
    "    return trial"
   ]
  },
  {
   "cell_type": "code",
   "execution_count": 122,
   "metadata": {},
   "outputs": [],
   "source": [
    "# settings for the learner\n",
    "A = .1 # learning rate\n"
   ]
  },
  {
   "cell_type": "code",
   "execution_count": 123,
   "metadata": {},
   "outputs": [
    {
     "name": "stdout",
     "output_type": "stream",
     "text": [
      "[1. 1. 1. 1. 1. 1. 1. 1. 1. 1. 1. 1. 1. 1. 1. 1. 1. 1. 1. 1. 1. 1. 1. 1.\n",
      " 1. 1. 1. 1. 1. 1.]\n"
     ]
    }
   ],
   "source": [
    "# now start the experiment\n",
    "Ntr = 30\n",
    "V_us = 1 # initial value for us (e.g., food) is positive -- an attractive stimuli\n",
    "V_cs = 0 # initial value for the cs (e.g., a beep sound) is neutral\n",
    "V_arr = np.ones(Ntr)\n",
    "print(V_arr)\n",
    "for k in range(Ntr):\n",
    "    V_arr[k] = V_cs\n",
    "    [cs,us] = gen_trial()\n",
    "    V_cs = V_cs + A *(V_us * us - V_cs * cs)"
   ]
  },
  {
   "cell_type": "code",
   "execution_count": 124,
   "metadata": {},
   "outputs": [
    {
     "data": {
      "image/png": "[encoded data removed]",
      "text/plain": [
       "<Figure size 432x288 with 1 Axes>"
      ]
     },
     "metadata": {
      "needs_background": "light"
     },
     "output_type": "display_data"
    }
   ],
   "source": [
    "plt.plot(np.arange(Ntr),V_arr)\n",
    "plt.xlabel('trial num')\n",
    "plt.ylabel('V(CS)')\n",
    "plt.show()"
   ]
  }
 ],
 "metadata": {
  "kernelspec": {
   "display_name": "Python 3",
   "language": "python",
   "name": "python3"
  },
  "language_info": {
   "codemirror_mode": {
    "name": "ipython",
    "version": 3
   },
   "file_extension": ".py",
   "mimetype": "text/x-python",
   "name": "python",
   "nbconvert_exporter": "python",
   "pygments_lexer": "ipython3",
   "version": "3.7.0"
  }
 },
 "nbformat": 4,
 "nbformat_minor": 1
}
